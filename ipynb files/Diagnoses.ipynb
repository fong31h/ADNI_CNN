{
 "cells": [
  {
   "cell_type": "code",
   "execution_count": 7,
   "metadata": {},
   "outputs": [],
   "source": [
    "import pandas as pd\n",
    "import os\n",
    "import re"
   ]
  },
  {
   "cell_type": "markdown",
   "metadata": {},
   "source": [
    "So the goal is to see how similar my labels are to Marshall's. So I'll use 3D_Images_correct.csv, since it has every label for ADNI 1 that I will be using."
   ]
  },
  {
   "cell_type": "code",
   "execution_count": 2,
   "metadata": {},
   "outputs": [],
   "source": [
    "marshall_data = pd.read_excel(os.path.expanduser('~/Downloads/Profile Variables 2024-10-16.xlsx'))\n",
    "my_data = pd.read_csv('../3D_Images_correct.csv')\n",
    "\n",
    "#print(marshall_data.columns)\n",
    "\n",
    "# Okay I have the data"
   ]
  },
  {
   "cell_type": "code",
   "execution_count": 3,
   "metadata": {},
   "outputs": [
    {
     "data": {
      "text/plain": [
       "DX_bl\n",
       "3    690\n",
       "0    542\n",
       "2    423\n",
       "4    411\n",
       "1    353\n",
       "Name: count, dtype: int64"
      ]
     },
     "execution_count": 3,
     "metadata": {},
     "output_type": "execute_result"
    }
   ],
   "source": [
    "marshall_data['DX_bl'].value_counts()"
   ]
  },
  {
   "cell_type": "code",
   "execution_count": 129,
   "metadata": {},
   "outputs": [],
   "source": [
    "#marshall_data2 = marshall_data.copy()\n",
    "marshall_data['Baseline'] = None\n",
    "#marshall_data2['Baseline'] = None\n",
    "# for i in range(len(marshall_data2)):\n",
    "#     if marshall_data2.loc[i, 'DX_bl'] == 0:\n",
    "#         marshall_data2.loc[i, 'Baseline'] = 'CN'\n",
    "#     elif marshall_data2.loc[i, 'DX_bl'] == 1:\n",
    "#        marshall_data2.loc[i, 'Baseline'] = 'SMC'\n",
    "#     elif marshall_data2.loc[i, 'DX_bl'] == 2:\n",
    "#         marshall_data2.loc[i, 'Baseline'] = 'EMCI'\n",
    "#     elif marshall_data2.loc[i, 'DX_bl'] == 3:\n",
    "#         marshall_data2.loc[i, 'Baseline'] = 'LMCI'\n",
    "#     elif marshall_data2.loc[i, 'DX_bl'] == 4:\n",
    "#         marshall_data2.loc[i, 'Baseline'] = 'AD'\n",
    "\n",
    "for i in range(len(marshall_data)):\n",
    "    if marshall_data.loc[i, 'DX_bl'] == 0:\n",
    "        marshall_data.loc[i, 'Baseline'] = 'CN'\n",
    "    elif marshall_data.loc[i, 'DX_bl'] == 1:\n",
    "       marshall_data.loc[i, 'Baseline'] = 'SMC'\n",
    "    elif marshall_data.loc[i, 'DX_bl'] == 2:\n",
    "        marshall_data.loc[i, 'Baseline'] = 'MCI'\n",
    "    elif marshall_data.loc[i, 'DX_bl'] == 3:\n",
    "        marshall_data.loc[i, 'Baseline'] = 'MCI'\n",
    "    elif marshall_data.loc[i, 'DX_bl'] == 4:\n",
    "        marshall_data.loc[i, 'Baseline'] = 'AD'"
   ]
  },
  {
   "cell_type": "code",
   "execution_count": 66,
   "metadata": {},
   "outputs": [
    {
     "name": "stdout",
     "output_type": "stream",
     "text": [
      "       RID  DX_bl Baseline\n",
      "0        2      0       CN\n",
      "1        3      4       AD\n",
      "2        4      3     LMCI\n",
      "3        5      0       CN\n",
      "4        6      3     LMCI\n",
      "...    ...    ...      ...\n",
      "2414  7105      3     LMCI\n",
      "2415  7114      1      SMC\n",
      "2416  7117      2     EMCI\n",
      "2417  7121      3     LMCI\n",
      "2418  7123      1      SMC\n",
      "\n",
      "[2419 rows x 3 columns]\n"
     ]
    }
   ],
   "source": [
    "print(marshall_data[['RID', 'DX_bl', 'Baseline']])"
   ]
  },
  {
   "cell_type": "code",
   "execution_count": 24,
   "metadata": {},
   "outputs": [],
   "source": [
    "my_data['RID'] = None\n",
    "pattern = re.compile(r'ADNI_1\\/ADNI\\/(\\d{3}_S_\\d+)\\/')\n",
    "\n",
    "for i in range(len(my_data)):\n",
    "    sid = re.search(pattern, my_data['File Path'][i])[1]\n",
    "    rid = int(sid[-4:])\n",
    "    my_data.loc[i, 'RID'] = rid"
   ]
  },
  {
   "cell_type": "code",
   "execution_count": 37,
   "metadata": {},
   "outputs": [],
   "source": [
    "dallan = pd.read_csv('../3D_Images_dallan.csv')"
   ]
  },
  {
   "cell_type": "code",
   "execution_count": 38,
   "metadata": {},
   "outputs": [],
   "source": [
    "dallan['RID'] = None\n",
    "pattern = re.compile(r'ADNI_1\\/ADNI\\/(\\d{3}_S_\\d+)\\/')\n",
    "\n",
    "for i in range(len(dallan)):\n",
    "    sid = re.search(pattern, dallan['File Path'][i])[1]\n",
    "    rid = int(sid[-4:])\n",
    "    dallan.loc[i, 'RID'] = rid"
   ]
  },
  {
   "cell_type": "code",
   "execution_count": 69,
   "metadata": {},
   "outputs": [],
   "source": [
    "rgroup = []\n",
    "unique_rids = my_data['RID'].unique()\n",
    "for rid in unique_rids:\n",
    "    label = my_data[my_data['RID'] == rid]['Research Group'].value_counts().index[0]\n",
    "    rgroup.append(label)"
   ]
  },
  {
   "cell_type": "code",
   "execution_count": 79,
   "metadata": {},
   "outputs": [],
   "source": [
    "x = pd.DataFrame({'RID':unique_rids,'Research Group':rgroup})\n",
    "\n",
    "x.sort_values('RID',inplace=True)\n",
    "x.reset_index(drop=True,inplace=True)"
   ]
  },
  {
   "cell_type": "code",
   "execution_count": 130,
   "metadata": {},
   "outputs": [],
   "source": [
    "use_marshall = marshall_data[['RID', 'DX_bl', 'Baseline']]\n",
    "use_marshall = use_marshall[use_marshall['RID'].isin(x['RID'].to_list())]"
   ]
  },
  {
   "cell_type": "code",
   "execution_count": 131,
   "metadata": {},
   "outputs": [],
   "source": [
    "#x[~x['RID'].isin(use_marshall['RID'].to_list())]\n",
    "use_x = x[x['RID'].isin(use_marshall['RID'].to_list())]"
   ]
  },
  {
   "cell_type": "code",
   "execution_count": 132,
   "metadata": {},
   "outputs": [],
   "source": [
    "use_x.reset_index(drop=True,inplace=True)\n",
    "use_marshall.reset_index(drop=True,inplace=True)"
   ]
  },
  {
   "cell_type": "code",
   "execution_count": 133,
   "metadata": {},
   "outputs": [
    {
     "name": "stdout",
     "output_type": "stream",
     "text": [
      "Index(['RID', 'Research Group'], dtype='object')\n",
      "Index(['RID', 'DX_bl', 'Baseline'], dtype='object')\n"
     ]
    }
   ],
   "source": [
    "print(use_x.columns)\n",
    "print(use_marshall.columns)"
   ]
  },
  {
   "cell_type": "code",
   "execution_count": 139,
   "metadata": {},
   "outputs": [
    {
     "data": {
      "text/html": [
       "<div>\n",
       "<style scoped>\n",
       "    .dataframe tbody tr th:only-of-type {\n",
       "        vertical-align: middle;\n",
       "    }\n",
       "\n",
       "    .dataframe tbody tr th {\n",
       "        vertical-align: top;\n",
       "    }\n",
       "\n",
       "    .dataframe thead th {\n",
       "        text-align: right;\n",
       "    }\n",
       "</style>\n",
       "<table border=\"1\" class=\"dataframe\">\n",
       "  <thead>\n",
       "    <tr style=\"text-align: right;\">\n",
       "      <th></th>\n",
       "      <th>RID</th>\n",
       "      <th>Research Group</th>\n",
       "    </tr>\n",
       "  </thead>\n",
       "  <tbody>\n",
       "    <tr>\n",
       "      <th>0</th>\n",
       "      <td>2</td>\n",
       "      <td>MCI</td>\n",
       "    </tr>\n",
       "    <tr>\n",
       "      <th>284</th>\n",
       "      <td>492</td>\n",
       "      <td>MCI</td>\n",
       "    </tr>\n",
       "  </tbody>\n",
       "</table>\n",
       "</div>"
      ],
      "text/plain": [
       "     RID Research Group\n",
       "0      2            MCI\n",
       "284  492            MCI"
      ]
     },
     "execution_count": 139,
     "metadata": {},
     "output_type": "execute_result"
    }
   ],
   "source": [
    "boolean = ~(use_x['Research Group'] == use_marshall['Baseline'])\n",
    "\n",
    "use_x[boolean]"
   ]
  },
  {
   "cell_type": "code",
   "execution_count": 144,
   "metadata": {},
   "outputs": [
    {
     "name": "stdout",
     "output_type": "stream",
     "text": [
      "                                              File Path Research Group  RID\n",
      "8423  ADNI_1/ADNI/099_S_0492/MPRAGE_Repeat/2006-05-2...            MCI  492\n",
      "8424  ADNI_1/ADNI/099_S_0492/MPRAGE/2006-05-25_08_01...             AD  492\n"
     ]
    },
    {
     "data": {
      "text/html": [
       "<div>\n",
       "<style scoped>\n",
       "    .dataframe tbody tr th:only-of-type {\n",
       "        vertical-align: middle;\n",
       "    }\n",
       "\n",
       "    .dataframe tbody tr th {\n",
       "        vertical-align: top;\n",
       "    }\n",
       "\n",
       "    .dataframe thead th {\n",
       "        text-align: right;\n",
       "    }\n",
       "</style>\n",
       "<table border=\"1\" class=\"dataframe\">\n",
       "  <thead>\n",
       "    <tr style=\"text-align: right;\">\n",
       "      <th></th>\n",
       "      <th>File Path</th>\n",
       "      <th>Research Group</th>\n",
       "      <th>RID</th>\n",
       "    </tr>\n",
       "  </thead>\n",
       "  <tbody>\n",
       "    <tr>\n",
       "      <th>8423</th>\n",
       "      <td>ADNI_1/ADNI/099_S_0492/MPRAGE_Repeat/2006-05-2...</td>\n",
       "      <td>MCI</td>\n",
       "      <td>492</td>\n",
       "    </tr>\n",
       "    <tr>\n",
       "      <th>8424</th>\n",
       "      <td>ADNI_1/ADNI/099_S_0492/MPRAGE/2006-05-25_08_01...</td>\n",
       "      <td>MCI</td>\n",
       "      <td>492</td>\n",
       "    </tr>\n",
       "  </tbody>\n",
       "</table>\n",
       "</div>"
      ],
      "text/plain": [
       "                                              File Path Research Group  RID\n",
       "8423  ADNI_1/ADNI/099_S_0492/MPRAGE_Repeat/2006-05-2...            MCI  492\n",
       "8424  ADNI_1/ADNI/099_S_0492/MPRAGE/2006-05-25_08_01...            MCI  492"
      ]
     },
     "execution_count": 144,
     "metadata": {},
     "output_type": "execute_result"
    }
   ],
   "source": [
    "print(my_data[my_data['RID'] == 492])\n",
    "\n",
    "dallan[dallan['RID'] == 492]"
   ]
  }
 ],
 "metadata": {
  "kernelspec": {
   "display_name": "env",
   "language": "python",
   "name": "python3"
  },
  "language_info": {
   "codemirror_mode": {
    "name": "ipython",
    "version": 3
   },
   "file_extension": ".py",
   "mimetype": "text/x-python",
   "name": "python",
   "nbconvert_exporter": "python",
   "pygments_lexer": "ipython3",
   "version": "3.9.6"
  }
 },
 "nbformat": 4,
 "nbformat_minor": 2
}
